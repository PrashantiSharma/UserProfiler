{
  "nbformat": 4,
  "nbformat_minor": 0,
  "metadata": {
    "colab": {
      "provenance": [],
      "authorship_tag": "ABX9TyMoCEk6Xu7VSKSd6T7fvmxv",
      "include_colab_link": true
    },
    "kernelspec": {
      "name": "python3",
      "display_name": "Python 3"
    },
    "language_info": {
      "name": "python"
    }
  },
  "cells": [
    {
      "cell_type": "markdown",
      "metadata": {
        "id": "view-in-github",
        "colab_type": "text"
      },
      "source": [
        "<a href=\"https://colab.research.google.com/github/PrashantiSharma/UserProfiler/blob/main/Main.ipynb\" target=\"_parent\"><img src=\"https://colab.research.google.com/assets/colab-badge.svg\" alt=\"Open In Colab\"/></a>"
      ]
    },
    {
      "cell_type": "code",
      "execution_count": 5,
      "metadata": {
        "colab": {
          "base_uri": "https://localhost:8080/"
        },
        "collapsed": true,
        "id": "rb3oRKixzJcj",
        "outputId": "02dfb2f0-6e43-4659-c3ec-57032d67a748"
      },
      "outputs": [
        {
          "output_type": "stream",
          "name": "stdout",
          "text": [
            "Requirement already satisfied: flask in /usr/local/lib/python3.11/dist-packages (3.1.1)\n",
            "Collecting pyngrok\n",
            "  Downloading pyngrok-7.2.12-py3-none-any.whl.metadata (9.4 kB)\n",
            "Requirement already satisfied: praw in /usr/local/lib/python3.11/dist-packages (7.8.1)\n",
            "Requirement already satisfied: nltk in /usr/local/lib/python3.11/dist-packages (3.9.1)\n",
            "Requirement already satisfied: blinker>=1.9.0 in /usr/local/lib/python3.11/dist-packages (from flask) (1.9.0)\n",
            "Requirement already satisfied: click>=8.1.3 in /usr/local/lib/python3.11/dist-packages (from flask) (8.2.1)\n",
            "Requirement already satisfied: itsdangerous>=2.2.0 in /usr/local/lib/python3.11/dist-packages (from flask) (2.2.0)\n",
            "Requirement already satisfied: jinja2>=3.1.2 in /usr/local/lib/python3.11/dist-packages (from flask) (3.1.6)\n",
            "Requirement already satisfied: markupsafe>=2.1.1 in /usr/local/lib/python3.11/dist-packages (from flask) (3.0.2)\n",
            "Requirement already satisfied: werkzeug>=3.1.0 in /usr/local/lib/python3.11/dist-packages (from flask) (3.1.3)\n",
            "Requirement already satisfied: PyYAML>=5.1 in /usr/local/lib/python3.11/dist-packages (from pyngrok) (6.0.2)\n",
            "Requirement already satisfied: prawcore<3,>=2.4 in /usr/local/lib/python3.11/dist-packages (from praw) (2.4.0)\n",
            "Requirement already satisfied: update_checker>=0.18 in /usr/local/lib/python3.11/dist-packages (from praw) (0.18.0)\n",
            "Requirement already satisfied: websocket-client>=0.54.0 in /usr/local/lib/python3.11/dist-packages (from praw) (1.8.0)\n",
            "Requirement already satisfied: joblib in /usr/local/lib/python3.11/dist-packages (from nltk) (1.5.1)\n",
            "Requirement already satisfied: regex>=2021.8.3 in /usr/local/lib/python3.11/dist-packages (from nltk) (2024.11.6)\n",
            "Requirement already satisfied: tqdm in /usr/local/lib/python3.11/dist-packages (from nltk) (4.67.1)\n",
            "Requirement already satisfied: requests<3.0,>=2.6.0 in /usr/local/lib/python3.11/dist-packages (from prawcore<3,>=2.4->praw) (2.32.3)\n",
            "Requirement already satisfied: charset-normalizer<4,>=2 in /usr/local/lib/python3.11/dist-packages (from requests<3.0,>=2.6.0->prawcore<3,>=2.4->praw) (3.4.2)\n",
            "Requirement already satisfied: idna<4,>=2.5 in /usr/local/lib/python3.11/dist-packages (from requests<3.0,>=2.6.0->prawcore<3,>=2.4->praw) (3.10)\n",
            "Requirement already satisfied: urllib3<3,>=1.21.1 in /usr/local/lib/python3.11/dist-packages (from requests<3.0,>=2.6.0->prawcore<3,>=2.4->praw) (2.4.0)\n",
            "Requirement already satisfied: certifi>=2017.4.17 in /usr/local/lib/python3.11/dist-packages (from requests<3.0,>=2.6.0->prawcore<3,>=2.4->praw) (2025.7.9)\n",
            "Downloading pyngrok-7.2.12-py3-none-any.whl (26 kB)\n",
            "Installing collected packages: pyngrok\n",
            "Successfully installed pyngrok-7.2.12\n"
          ]
        }
      ],
      "source": [
        "!pip install flask pyngrok praw nltk"
      ]
    },
    {
      "cell_type": "code",
      "source": [
        "import praw\n",
        "import nltk\n",
        "nltk.download('vader_lexicon')\n",
        "from nltk.sentiment import SentimentIntensityAnalyzer\n",
        "from flask import Flask, render_template_string\n",
        "from pyngrok import ngrok, conf\n",
        "conf.get_default().auth_token = \"2xJL1xQDkmqOlhVeGTb1PEhkqV6_86jbHMNspeVvtktYhFPUv\"\n",
        "import threading\n",
        "\n",
        "\n",
        "sia = SentimentIntensityAnalyzer()\n",
        "\n",
        "# Your Reddit credentials here\n",
        "reddit = praw.Reddit(\n",
        "    client_id='jAjrDWn9twXmy5aQg9GYbA',\n",
        "    client_secret='\t2RQFOOTtorNwOJJQsEeLQ-11lK2ZGQ',\n",
        "    user_agent='PersonaBuilder/0.1 by u/PracticeOk817'\n",
        ")\n"
      ],
      "metadata": {
        "colab": {
          "base_uri": "https://localhost:8080/"
        },
        "id": "7tnOazGGzTZ_",
        "outputId": "ecb6950a-5eb9-490a-e885-8ab6ae5c7713"
      },
      "execution_count": 10,
      "outputs": [
        {
          "output_type": "stream",
          "name": "stderr",
          "text": [
            "[nltk_data] Downloading package vader_lexicon to /root/nltk_data...\n",
            "[nltk_data]   Package vader_lexicon is already up-to-date!\n"
          ]
        }
      ]
    },
    {
      "cell_type": "code",
      "source": [
        "html_template = \"\"\"\n",
        "<!DOCTYPE html>\n",
        "<html>\n",
        "<head>\n",
        "    <title>User Persona - u/{{ username }}</title>\n",
        "    <style>\n",
        "        body {\n",
        "            font-family: Arial, sans-serif;\n",
        "            background: #fdfdfd;\n",
        "            margin: 40px;\n",
        "        }\n",
        "        .container {\n",
        "            max-width: 900px;\n",
        "            margin: auto;\n",
        "            padding: 25px;\n",
        "            border: 1px solid #ccc;\n",
        "            border-radius: 10px;\n",
        "            background: white;\n",
        "        }\n",
        "        h1 {\n",
        "            color: #e76f51;\n",
        "        }\n",
        "        h2 {\n",
        "            margin-top: 30px;\n",
        "            color: #264653;\n",
        "        }\n",
        "        .section {\n",
        "            margin-bottom: 20px;\n",
        "        }\n",
        "        .bar {\n",
        "            background-color: #f1f1f1;\n",
        "            border-radius: 20px;\n",
        "            padding: 3px;\n",
        "            margin: 5px 0;\n",
        "        }\n",
        "        .bar-fill {\n",
        "            background-color: #2a9d8f;\n",
        "            height: 16px;\n",
        "            border-radius: 20px;\n",
        "        }\n",
        "        .quote {\n",
        "            font-style: italic;\n",
        "            background: #f8f8f8;\n",
        "            padding: 10px;\n",
        "            border-left: 4px solid #e76f51;\n",
        "            margin-top: 10px;\n",
        "        }\n",
        "    </style>\n",
        "</head>\n",
        "<body>\n",
        "<div class=\"container\">\n",
        "    <h1>User Persona: u/{{ username }}</h1>\n",
        "\n",
        "    <div class=\"section\">\n",
        "        <h2>Traits</h2>\n",
        "        <p><strong>Archetype:</strong> {{ archetype }}<br>\n",
        "           <strong>Status:</strong> {{ status }}<br>\n",
        "           <strong>Location:</strong> {{ location }}</p>\n",
        "    </div>\n",
        "\n",
        "    <div class=\"section\">\n",
        "        <h2>Motivations</h2>\n",
        "        {% for label, percent in motivations.items() %}\n",
        "            <p>{{ label }}</p>\n",
        "            <div class=\"bar\">\n",
        "                <div class=\"bar-fill\" style=\"width: {{ percent }}%;\"></div>\n",
        "            </div>\n",
        "        {% endfor %}\n",
        "    </div>\n",
        "\n",
        "    <div class=\"section\">\n",
        "        <h2>Behavior & Habits</h2>\n",
        "        <ul>\n",
        "            {% for item in habits %}\n",
        "                <li>{{ item }}</li>\n",
        "            {% endfor %}\n",
        "        </ul>\n",
        "    </div>\n",
        "\n",
        "    <div class=\"section\">\n",
        "        <h2>Frustrations</h2>\n",
        "        <ul>\n",
        "            {% for item in frustrations %}\n",
        "                <li>{{ item }}</li>\n",
        "            {% endfor %}\n",
        "        </ul>\n",
        "    </div>\n",
        "\n",
        "    <div class=\"section\">\n",
        "        <h2>Goals & Needs</h2>\n",
        "        <ul>\n",
        "            {% for item in goals %}\n",
        "                <li>{{ item }}</li>\n",
        "            {% endfor %}\n",
        "        </ul>\n",
        "    </div>\n",
        "\n",
        "    <div class=\"section\">\n",
        "        <h2>Personality</h2>\n",
        "        <p><strong>Introvert–Extrovert:</strong> {{ personality['ie'] }}<br>\n",
        "           <strong>Sensing–Intuition:</strong> {{ personality['sn'] }}<br>\n",
        "           <strong>Thinking–Feeling:</strong> {{ personality['tf'] }}<br>\n",
        "           <strong>Judging–Perceiving:</strong> {{ personality['jp'] }}</p>\n",
        "    </div>\n",
        "\n",
        "    <div class=\"quote\">\n",
        "        “{{ quote }}”\n",
        "    </div>\n",
        "</div>\n",
        "</body>\n",
        "</html>\n",
        "\"\"\"\n"
      ],
      "metadata": {
        "id": "0-uDvq3KzWQO"
      },
      "execution_count": 11,
      "outputs": []
    },
    {
      "cell_type": "code",
      "source": [
        "app = Flask(__name__)\n",
        "\n",
        "# Define your routes\n",
        "@app.route('/')\n",
        "def home():\n",
        "    return '<h1>Reddit Persona Generator</h1><form action=\"/persona\" method=\"post\">Reddit URL: <input name=\"url\"><input type=\"submit\" value=\"Generate\"></form>'\n",
        "\n",
        "from nltk.sentiment import SentimentIntensityAnalyzer\n",
        "sia = SentimentIntensityAnalyzer()\n",
        "\n",
        "@app.route('/persona', methods=['POST'])\n",
        "def persona():\n",
        "    url = request.form['url']\n",
        "    username = url.strip('/').split('/')[-1]\n",
        "\n",
        "    redditor = reddit.redditor(username)\n",
        "\n",
        "    # Fetch posts/comments\n",
        "    posts, comments = [], []\n",
        "    try:\n",
        "        for post in redditor.submissions.new(limit=20):\n",
        "            posts.append(post.title + \" \" + post.selftext)\n",
        "        for comment in redditor.comments.new(limit=20):\n",
        "            comments.append(comment.body)\n",
        "    except:\n",
        "        return f\"<h2>Could not fetch data for u/{username}.</h2>\"\n",
        "\n",
        "    # Analyze\n",
        "    full_text = \" \".join(posts + comments).lower()\n",
        "    motivations = {\n",
        "        \"Convenience\": 80 if \"quick\" in full_text or \"fast\" in full_text else 50,\n",
        "        \"Wellness\": 70 if \"fitness\" in full_text or \"mental\" in full_text else 40,\n",
        "        \"Speed\": 90 if \"instantly\" in full_text or \"now\" in full_text else 60,\n",
        "        \"Preferences\": 70,\n",
        "        \"Comfort\": 60,\n",
        "        \"Dietary Needs\": 30\n",
        "    }\n",
        "\n",
        "    habits = [\n",
        "        \"Frequently posts in subreddits related to personal interests.\",\n",
        "        \"Engages in community discussions actively.\",\n",
        "        \"Comments reflect either helpfulness or curiosity.\"\n",
        "    ]\n",
        "    frustrations = []\n",
        "    if \"can't\" in full_text or \"don't\" in full_text:\n",
        "        frustrations.append(\"Expresses confusion or dissatisfaction in discussions.\")\n",
        "    if \"hate\" in full_text or \"annoyed\" in full_text:\n",
        "        frustrations.append(\"Mentions frustration or irritation.\")\n",
        "\n",
        "    goals = [\n",
        "        \"To get useful feedback and be heard by the community.\",\n",
        "        \"To find answers and contribute knowledge.\",\n",
        "        \"To feel part of an engaging online space.\"\n",
        "    ]\n",
        "\n",
        "    sentiment_score = sia.polarity_scores(full_text)['compound']\n",
        "    personality = {\n",
        "        \"ie\": \"Extrovert\" if sentiment_score > 0 else \"Introvert\",\n",
        "        \"sn\": \"Intuitive\",\n",
        "        \"tf\": \"Thinking\",\n",
        "        \"jp\": \"Perceiving\"\n",
        "    }\n",
        "\n",
        "    quote = \"I want to spend less time explaining myself and more time being understood.\"\n",
        "\n",
        "    return render_template_string(\n",
        "        html_template,\n",
        "        username=username,\n",
        "        archetype=\"The Explorer\",\n",
        "        status=\"Unknown\",\n",
        "        location=\"Unknown\",\n",
        "        motivations=motivations,\n",
        "        habits=habits,\n",
        "        frustrations=frustrations if frustrations else [\"No clear frustrations found.\"],\n",
        "        goals=goals,\n",
        "        personality=personality,\n",
        "        quote=quote\n",
        "    )\n",
        "\n",
        "\n",
        "# Start ngrok tunnel\n",
        "def run_app():\n",
        "    app.run()\n",
        "\n",
        "thread = threading.Thread(target=run_app)\n",
        "thread.start()\n",
        "\n",
        "# Open ngrok tunnel\n",
        "public_url = ngrok.connect(5000)\n",
        "print(f\"Your app is live at: {public_url}\")\n"
      ],
      "metadata": {
        "colab": {
          "base_uri": "https://localhost:8080/"
        },
        "id": "-CuWxjxFzZ61",
        "outputId": "1ccc97c8-b25d-4111-ad0b-0abf3a758665"
      },
      "execution_count": 14,
      "outputs": [
        {
          "output_type": "stream",
          "name": "stdout",
          "text": [
            " * Serving Flask app '__main__'\n",
            " * Debug mode: off\n",
            "Your app is live at: NgrokTunnel: \"https://fc07ee36382c.ngrok-free.app\" -> \"http://localhost:5000\"\n"
          ]
        },
        {
          "output_type": "stream",
          "name": "stderr",
          "text": [
            "Address already in use\n",
            "Port 5000 is in use by another program. Either identify and stop that program, or start the server with a different port.\n"
          ]
        }
      ]
    },
    {
      "cell_type": "code",
      "source": [],
      "metadata": {
        "id": "P7yMR564zdiE"
      },
      "execution_count": null,
      "outputs": []
    }
  ]
}